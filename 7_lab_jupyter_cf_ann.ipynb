{
  "cells": [
    {
      "cell_type": "markdown",
      "metadata": {
        "id": "8ed1f1ad-d397-4d8d-bce5-7894273c38b4"
      },
      "source": [
        "<p style=\"text-align:center\">\n",
        "    <a href=\"https://skills.network/?utm_medium=Exinfluencer&utm_source=Exinfluencer&utm_content=000026UJ&utm_term=10006555&utm_id=NA-SkillsNetwork-Channel-SkillsNetworkCoursesIBMML321ENSkillsNetwork817-2022-01-01\" target=\"_blank\">\n",
        "    <img src=\"https://cf-courses-data.s3.us.cloud-object-storage.appdomain.cloud/assets/logos/SN_web_lightmode.png\" width=\"200\" alt=\"Skills Network Logo\">\n",
        "    </a>\n",
        "</p>\n"
      ]
    },
    {
      "cell_type": "markdown",
      "metadata": {
        "id": "96bf8be2-d336-4d67-8c00-157efc0a7ecd"
      },
      "source": [
        "# **Course Rating Prediction using Neural Networks**\n"
      ]
    },
    {
      "cell_type": "markdown",
      "metadata": {
        "id": "c6922605-e671-4ef4-86a9-9ec71359732e"
      },
      "source": [
        "Estimated time needed: **60** minutes\n"
      ]
    },
    {
      "cell_type": "markdown",
      "metadata": {
        "id": "d92ce8bc-666f-4f7e-b9cf-902444784b0b"
      },
      "source": [
        "In the previous labs, we have crafted several types of user and item feature vectors.  For example, given a user `i`, we may build its profile feature vector and course rating feature vector, and given an item `j`, we may create its genre vector and user enrollment vectors.\n"
      ]
    },
    {
      "cell_type": "markdown",
      "metadata": {
        "id": "41d251b5-dea1-4c21-8be7-33b138ec5ffe"
      },
      "source": [
        "\n",
        "With these explicit features vectors, we can perform machine learning tasks such as calculating the similarities among users or items, finding nearest neighbors, and using dot-product to estimate a rating value.\n",
        "\n",
        "The main advantage of using these explicit features is they are highly interpretable and yield very good performance as well. The main disadvantage is we need to spend quite some effort to build and store them.\n"
      ]
    },
    {
      "cell_type": "markdown",
      "metadata": {
        "id": "e948cb0b-2dcb-4633-b6da-6fa5d5929966"
      },
      "source": [
        "![](https://cf-courses-data.s3.us.cloud-object-storage.appdomain.cloud/IBM-ML321EN-SkillsNetwork/labs/module_4/images/explicit_user_item_features.png)\n"
      ]
    },
    {
      "cell_type": "markdown",
      "metadata": {
        "id": "b5566430-e1c3-484e-b4c8-2bae4b6cb851"
      },
      "source": [
        "Is it possible to predict a rating without building explicit feature vectors beforehand?  \n",
        "\n",
        "Yes, as you may recall, the Non-negative Matrix Factorization decomposes the user-item interaction matrix into user matrix and item matrix, which contain the latent features of users and items and you can simply dot-product them to get an estimated rating.\n"
      ]
    },
    {
      "cell_type": "markdown",
      "metadata": {
        "id": "e59271b9-823d-4a6e-9880-d998da9c4659"
      },
      "source": [
        "![](https://cf-courses-data.s3.us.cloud-object-storage.appdomain.cloud/IBM-ML321EN-SkillsNetwork/labs/module_4/images/nmf.png)\n"
      ]
    },
    {
      "cell_type": "markdown",
      "metadata": {
        "id": "0b4e3e5b-5c3b-40c2-9a52-99ac04a7034d"
      },
      "source": [
        "In addition to NMF, neural networks can also be used to extract the latent user and item features  In fact,  neural networks are very good at learning patterns from data and are widely used to extract latent features.  When training neural networks, it gradually captures and stores the features within its hidden layers as weight matrices and can be extracted to represent the original data.\n"
      ]
    },
    {
      "cell_type": "markdown",
      "metadata": {
        "id": "445fddc3-af79-4794-94c7-0908fcc0b555"
      },
      "source": [
        "In this lab, you will be training neural networks to predict course ratings while simultaneously extracting users' and items' latent features.\n"
      ]
    },
    {
      "cell_type": "markdown",
      "metadata": {
        "id": "35f65caf-6524-4366-839a-2b9e368c478b"
      },
      "source": [
        "## Objectives\n"
      ]
    },
    {
      "cell_type": "markdown",
      "metadata": {
        "id": "280579ff-ce45-4943-9553-09626580ce60"
      },
      "source": [
        "After completing this lab you will be able to:\n"
      ]
    },
    {
      "cell_type": "markdown",
      "metadata": {
        "id": "bd5c8fa5-0b8c-403a-b71f-4f406466d407"
      },
      "source": [
        "* Use `tensorflow` to train neural networks to extract the user and item latent features from the hidden's layers  \n",
        "* Predict course ratings with trained neural networks\n"
      ]
    },
    {
      "cell_type": "markdown",
      "metadata": {
        "id": "d94ad96a-fee1-4a74-9e7e-708ca31aecc9"
      },
      "source": [
        "----\n"
      ]
    },
    {
      "cell_type": "markdown",
      "metadata": {
        "id": "c6b31041-8a72-4ddb-b66b-c26466a40ea7"
      },
      "source": [
        "## Prepare and setup lab environment\n"
      ]
    },
    {
      "cell_type": "markdown",
      "metadata": {
        "id": "52bbb07e-ba2e-4118-b201-c4aec3967340"
      },
      "source": [
        "Install tensorflow if not installed before in your Python environment\n"
      ]
    },
    {
      "cell_type": "code",
      "metadata": {
        "colab": {
          "base_uri": "https://localhost:8080/"
        },
        "id": "c227e619-3975-4f50-b5ff-39fc2158c22d",
        "outputId": "d29b30eb-5c77-4364-dc04-1f800f38f205"
      },
      "outputs": [
        {
          "output_type": "stream",
          "name": "stdout",
          "text": [
            "Requirement already satisfied: tensorflow in /usr/local/lib/python3.11/dist-packages (2.18.0)\n",
            "Requirement already satisfied: absl-py>=1.0.0 in /usr/local/lib/python3.11/dist-packages (from tensorflow) (1.4.0)\n",
            "Requirement already satisfied: astunparse>=1.6.0 in /usr/local/lib/python3.11/dist-packages (from tensorflow) (1.6.3)\n",
            "Requirement already satisfied: flatbuffers>=24.3.25 in /usr/local/lib/python3.11/dist-packages (from tensorflow) (25.2.10)\n",
            "Requirement already satisfied: gast!=0.5.0,!=0.5.1,!=0.5.2,>=0.2.1 in /usr/local/lib/python3.11/dist-packages (from tensorflow) (0.6.0)\n",
            "Requirement already satisfied: google-pasta>=0.1.1 in /usr/local/lib/python3.11/dist-packages (from tensorflow) (0.2.0)\n",
            "Requirement already satisfied: libclang>=13.0.0 in /usr/local/lib/python3.11/dist-packages (from tensorflow) (18.1.1)\n",
            "Requirement already satisfied: opt-einsum>=2.3.2 in /usr/local/lib/python3.11/dist-packages (from tensorflow) (3.4.0)\n",
            "Requirement already satisfied: packaging in /usr/local/lib/python3.11/dist-packages (from tensorflow) (24.2)\n",
            "Requirement already satisfied: protobuf!=4.21.0,!=4.21.1,!=4.21.2,!=4.21.3,!=4.21.4,!=4.21.5,<6.0.0dev,>=3.20.3 in /usr/local/lib/python3.11/dist-packages (from tensorflow) (5.29.5)\n",
            "Requirement already satisfied: requests<3,>=2.21.0 in /usr/local/lib/python3.11/dist-packages (from tensorflow) (2.32.3)\n",
            "Requirement already satisfied: setuptools in /usr/local/lib/python3.11/dist-packages (from tensorflow) (75.2.0)\n",
            "Requirement already satisfied: six>=1.12.0 in /usr/local/lib/python3.11/dist-packages (from tensorflow) (1.17.0)\n",
            "Requirement already satisfied: termcolor>=1.1.0 in /usr/local/lib/python3.11/dist-packages (from tensorflow) (3.1.0)\n",
            "Requirement already satisfied: typing-extensions>=3.6.6 in /usr/local/lib/python3.11/dist-packages (from tensorflow) (4.14.0)\n",
            "Requirement already satisfied: wrapt>=1.11.0 in /usr/local/lib/python3.11/dist-packages (from tensorflow) (1.17.2)\n",
            "Requirement already satisfied: grpcio<2.0,>=1.24.3 in /usr/local/lib/python3.11/dist-packages (from tensorflow) (1.72.1)\n",
            "Requirement already satisfied: tensorboard<2.19,>=2.18 in /usr/local/lib/python3.11/dist-packages (from tensorflow) (2.18.0)\n",
            "Requirement already satisfied: keras>=3.5.0 in /usr/local/lib/python3.11/dist-packages (from tensorflow) (3.8.0)\n",
            "Requirement already satisfied: numpy<2.1.0,>=1.26.0 in /usr/local/lib/python3.11/dist-packages (from tensorflow) (2.0.2)\n",
            "Requirement already satisfied: h5py>=3.11.0 in /usr/local/lib/python3.11/dist-packages (from tensorflow) (3.13.0)\n",
            "Requirement already satisfied: ml-dtypes<0.5.0,>=0.4.0 in /usr/local/lib/python3.11/dist-packages (from tensorflow) (0.4.1)\n",
            "Requirement already satisfied: tensorflow-io-gcs-filesystem>=0.23.1 in /usr/local/lib/python3.11/dist-packages (from tensorflow) (0.37.1)\n",
            "Requirement already satisfied: wheel<1.0,>=0.23.0 in /usr/local/lib/python3.11/dist-packages (from astunparse>=1.6.0->tensorflow) (0.45.1)\n",
            "Requirement already satisfied: rich in /usr/local/lib/python3.11/dist-packages (from keras>=3.5.0->tensorflow) (13.9.4)\n",
            "Requirement already satisfied: namex in /usr/local/lib/python3.11/dist-packages (from keras>=3.5.0->tensorflow) (0.1.0)\n",
            "Requirement already satisfied: optree in /usr/local/lib/python3.11/dist-packages (from keras>=3.5.0->tensorflow) (0.16.0)\n",
            "Requirement already satisfied: charset-normalizer<4,>=2 in /usr/local/lib/python3.11/dist-packages (from requests<3,>=2.21.0->tensorflow) (3.4.2)\n",
            "Requirement already satisfied: idna<4,>=2.5 in /usr/local/lib/python3.11/dist-packages (from requests<3,>=2.21.0->tensorflow) (3.10)\n",
            "Requirement already satisfied: urllib3<3,>=1.21.1 in /usr/local/lib/python3.11/dist-packages (from requests<3,>=2.21.0->tensorflow) (2.4.0)\n",
            "Requirement already satisfied: certifi>=2017.4.17 in /usr/local/lib/python3.11/dist-packages (from requests<3,>=2.21.0->tensorflow) (2025.4.26)\n",
            "Requirement already satisfied: markdown>=2.6.8 in /usr/local/lib/python3.11/dist-packages (from tensorboard<2.19,>=2.18->tensorflow) (3.8)\n",
            "Requirement already satisfied: tensorboard-data-server<0.8.0,>=0.7.0 in /usr/local/lib/python3.11/dist-packages (from tensorboard<2.19,>=2.18->tensorflow) (0.7.2)\n",
            "Requirement already satisfied: werkzeug>=1.0.1 in /usr/local/lib/python3.11/dist-packages (from tensorboard<2.19,>=2.18->tensorflow) (3.1.3)\n",
            "Requirement already satisfied: MarkupSafe>=2.1.1 in /usr/local/lib/python3.11/dist-packages (from werkzeug>=1.0.1->tensorboard<2.19,>=2.18->tensorflow) (3.0.2)\n",
            "Requirement already satisfied: markdown-it-py>=2.2.0 in /usr/local/lib/python3.11/dist-packages (from rich->keras>=3.5.0->tensorflow) (3.0.0)\n",
            "Requirement already satisfied: pygments<3.0.0,>=2.13.0 in /usr/local/lib/python3.11/dist-packages (from rich->keras>=3.5.0->tensorflow) (2.19.1)\n",
            "Requirement already satisfied: mdurl~=0.1 in /usr/local/lib/python3.11/dist-packages (from markdown-it-py>=2.2.0->rich->keras>=3.5.0->tensorflow) (0.1.2)\n"
          ]
        }
      ],
      "source": [
        "%pip install tensorflow"
      ],
      "execution_count": 1
    },
    {
      "cell_type": "markdown",
      "metadata": {
        "id": "c531c4cf-0a1e-4acb-b801-46984434d8a0"
      },
      "source": [
        "and import required libraries:\n"
      ]
    },
    {
      "cell_type": "code",
      "metadata": {
        "colab": {
          "base_uri": "https://localhost:8080/"
        },
        "id": "1736e3bb-1934-4ea8-bbc5-619b897ae128",
        "outputId": "8edbc7b8-62a4-4b58-df5d-067b7943b054"
      },
      "outputs": [
        {
          "output_type": "stream",
          "name": "stdout",
          "text": [
            "Requirement already satisfied: pandas in /usr/local/lib/python3.11/dist-packages (2.2.2)\n",
            "Requirement already satisfied: numpy>=1.23.2 in /usr/local/lib/python3.11/dist-packages (from pandas) (2.0.2)\n",
            "Requirement already satisfied: python-dateutil>=2.8.2 in /usr/local/lib/python3.11/dist-packages (from pandas) (2.9.0.post0)\n",
            "Requirement already satisfied: pytz>=2020.1 in /usr/local/lib/python3.11/dist-packages (from pandas) (2025.2)\n",
            "Requirement already satisfied: tzdata>=2022.7 in /usr/local/lib/python3.11/dist-packages (from pandas) (2025.2)\n",
            "Requirement already satisfied: six>=1.5 in /usr/local/lib/python3.11/dist-packages (from python-dateutil>=2.8.2->pandas) (1.17.0)\n",
            "Requirement already satisfied: matplotlib in /usr/local/lib/python3.11/dist-packages (3.10.0)\n",
            "Requirement already satisfied: contourpy>=1.0.1 in /usr/local/lib/python3.11/dist-packages (from matplotlib) (1.3.2)\n",
            "Requirement already satisfied: cycler>=0.10 in /usr/local/lib/python3.11/dist-packages (from matplotlib) (0.12.1)\n",
            "Requirement already satisfied: fonttools>=4.22.0 in /usr/local/lib/python3.11/dist-packages (from matplotlib) (4.58.1)\n",
            "Requirement already satisfied: kiwisolver>=1.3.1 in /usr/local/lib/python3.11/dist-packages (from matplotlib) (1.4.8)\n",
            "Requirement already satisfied: numpy>=1.23 in /usr/local/lib/python3.11/dist-packages (from matplotlib) (2.0.2)\n",
            "Requirement already satisfied: packaging>=20.0 in /usr/local/lib/python3.11/dist-packages (from matplotlib) (24.2)\n",
            "Requirement already satisfied: pillow>=8 in /usr/local/lib/python3.11/dist-packages (from matplotlib) (11.2.1)\n",
            "Requirement already satisfied: pyparsing>=2.3.1 in /usr/local/lib/python3.11/dist-packages (from matplotlib) (3.2.3)\n",
            "Requirement already satisfied: python-dateutil>=2.7 in /usr/local/lib/python3.11/dist-packages (from matplotlib) (2.9.0.post0)\n",
            "Requirement already satisfied: six>=1.5 in /usr/local/lib/python3.11/dist-packages (from python-dateutil>=2.7->matplotlib) (1.17.0)\n"
          ]
        }
      ],
      "source": [
        "%pip install pandas\n",
        "%pip install matplotlib\n",
        "import tensorflow as tf\n",
        "import matplotlib.pyplot as plt\n",
        "from tensorflow import keras\n",
        "from tensorflow.keras import layers\n",
        "import pandas as pd"
      ],
      "execution_count": 2
    },
    {
      "cell_type": "code",
      "metadata": {
        "id": "1a620ef3-2572-424f-8076-36dd54c8fb2e"
      },
      "outputs": [],
      "source": [
        "# also set a random state\n",
        "rs = 123"
      ],
      "execution_count": 3
    },
    {
      "cell_type": "markdown",
      "metadata": {
        "id": "ea62446e-bcf7-45b4-92c4-378c22155105"
      },
      "source": [
        "### Load and processing rating dataset\n"
      ]
    },
    {
      "cell_type": "code",
      "metadata": {
        "colab": {
          "base_uri": "https://localhost:8080/",
          "height": 206
        },
        "id": "e1cf70b7-5df0-4250-a25f-fd4a9a39f3fc",
        "outputId": "c273da6e-6152-4742-cbe7-bee6f9b36b9e"
      },
      "outputs": [
        {
          "output_type": "execute_result",
          "data": {
            "text/plain": [
              "      user        item  rating\n",
              "0  1889878    CC0101EN       5\n",
              "1  1342067    CL0101EN       3\n",
              "2  1990814  ML0120ENv3       5\n",
              "3   380098    BD0211EN       5\n",
              "4   779563    DS0101EN       3"
            ],
            "text/html": [
              "\n",
              "  <div id=\"df-15495058-792f-4f63-a3aa-44b5c3c0db45\" class=\"colab-df-container\">\n",
              "    <div>\n",
              "<style scoped>\n",
              "    .dataframe tbody tr th:only-of-type {\n",
              "        vertical-align: middle;\n",
              "    }\n",
              "\n",
              "    .dataframe tbody tr th {\n",
              "        vertical-align: top;\n",
              "    }\n",
              "\n",
              "    .dataframe thead th {\n",
              "        text-align: right;\n",
              "    }\n",
              "</style>\n",
              "<table border=\"1\" class=\"dataframe\">\n",
              "  <thead>\n",
              "    <tr style=\"text-align: right;\">\n",
              "      <th></th>\n",
              "      <th>user</th>\n",
              "      <th>item</th>\n",
              "      <th>rating</th>\n",
              "    </tr>\n",
              "  </thead>\n",
              "  <tbody>\n",
              "    <tr>\n",
              "      <th>0</th>\n",
              "      <td>1889878</td>\n",
              "      <td>CC0101EN</td>\n",
              "      <td>5</td>\n",
              "    </tr>\n",
              "    <tr>\n",
              "      <th>1</th>\n",
              "      <td>1342067</td>\n",
              "      <td>CL0101EN</td>\n",
              "      <td>3</td>\n",
              "    </tr>\n",
              "    <tr>\n",
              "      <th>2</th>\n",
              "      <td>1990814</td>\n",
              "      <td>ML0120ENv3</td>\n",
              "      <td>5</td>\n",
              "    </tr>\n",
              "    <tr>\n",
              "      <th>3</th>\n",
              "      <td>380098</td>\n",
              "      <td>BD0211EN</td>\n",
              "      <td>5</td>\n",
              "    </tr>\n",
              "    <tr>\n",
              "      <th>4</th>\n",
              "      <td>779563</td>\n",
              "      <td>DS0101EN</td>\n",
              "      <td>3</td>\n",
              "    </tr>\n",
              "  </tbody>\n",
              "</table>\n",
              "</div>\n",
              "    <div class=\"colab-df-buttons\">\n",
              "\n",
              "  <div class=\"colab-df-container\">\n",
              "    <button class=\"colab-df-convert\" onclick=\"convertToInteractive('df-15495058-792f-4f63-a3aa-44b5c3c0db45')\"\n",
              "            title=\"Convert this dataframe to an interactive table.\"\n",
              "            style=\"display:none;\">\n",
              "\n",
              "  <svg xmlns=\"http://www.w3.org/2000/svg\" height=\"24px\" viewBox=\"0 -960 960 960\">\n",
              "    <path d=\"M120-120v-720h720v720H120Zm60-500h600v-160H180v160Zm220 220h160v-160H400v160Zm0 220h160v-160H400v160ZM180-400h160v-160H180v160Zm440 0h160v-160H620v160ZM180-180h160v-160H180v160Zm440 0h160v-160H620v160Z\"/>\n",
              "  </svg>\n",
              "    </button>\n",
              "\n",
              "  <style>\n",
              "    .colab-df-container {\n",
              "      display:flex;\n",
              "      gap: 12px;\n",
              "    }\n",
              "\n",
              "    .colab-df-convert {\n",
              "      background-color: #E8F0FE;\n",
              "      border: none;\n",
              "      border-radius: 50%;\n",
              "      cursor: pointer;\n",
              "      display: none;\n",
              "      fill: #1967D2;\n",
              "      height: 32px;\n",
              "      padding: 0 0 0 0;\n",
              "      width: 32px;\n",
              "    }\n",
              "\n",
              "    .colab-df-convert:hover {\n",
              "      background-color: #E2EBFA;\n",
              "      box-shadow: 0px 1px 2px rgba(60, 64, 67, 0.3), 0px 1px 3px 1px rgba(60, 64, 67, 0.15);\n",
              "      fill: #174EA6;\n",
              "    }\n",
              "\n",
              "    .colab-df-buttons div {\n",
              "      margin-bottom: 4px;\n",
              "    }\n",
              "\n",
              "    [theme=dark] .colab-df-convert {\n",
              "      background-color: #3B4455;\n",
              "      fill: #D2E3FC;\n",
              "    }\n",
              "\n",
              "    [theme=dark] .colab-df-convert:hover {\n",
              "      background-color: #434B5C;\n",
              "      box-shadow: 0px 1px 3px 1px rgba(0, 0, 0, 0.15);\n",
              "      filter: drop-shadow(0px 1px 2px rgba(0, 0, 0, 0.3));\n",
              "      fill: #FFFFFF;\n",
              "    }\n",
              "  </style>\n",
              "\n",
              "    <script>\n",
              "      const buttonEl =\n",
              "        document.querySelector('#df-15495058-792f-4f63-a3aa-44b5c3c0db45 button.colab-df-convert');\n",
              "      buttonEl.style.display =\n",
              "        google.colab.kernel.accessAllowed ? 'block' : 'none';\n",
              "\n",
              "      async function convertToInteractive(key) {\n",
              "        const element = document.querySelector('#df-15495058-792f-4f63-a3aa-44b5c3c0db45');\n",
              "        const dataTable =\n",
              "          await google.colab.kernel.invokeFunction('convertToInteractive',\n",
              "                                                    [key], {});\n",
              "        if (!dataTable) return;\n",
              "\n",
              "        const docLinkHtml = 'Like what you see? Visit the ' +\n",
              "          '<a target=\"_blank\" href=https://colab.research.google.com/notebooks/data_table.ipynb>data table notebook</a>'\n",
              "          + ' to learn more about interactive tables.';\n",
              "        element.innerHTML = '';\n",
              "        dataTable['output_type'] = 'display_data';\n",
              "        await google.colab.output.renderOutput(dataTable, element);\n",
              "        const docLink = document.createElement('div');\n",
              "        docLink.innerHTML = docLinkHtml;\n",
              "        element.appendChild(docLink);\n",
              "      }\n",
              "    </script>\n",
              "  </div>\n",
              "\n",
              "\n",
              "    <div id=\"df-b700736e-7496-45bf-b5a2-f0ba7e77e4c8\">\n",
              "      <button class=\"colab-df-quickchart\" onclick=\"quickchart('df-b700736e-7496-45bf-b5a2-f0ba7e77e4c8')\"\n",
              "                title=\"Suggest charts\"\n",
              "                style=\"display:none;\">\n",
              "\n",
              "<svg xmlns=\"http://www.w3.org/2000/svg\" height=\"24px\"viewBox=\"0 0 24 24\"\n",
              "     width=\"24px\">\n",
              "    <g>\n",
              "        <path d=\"M19 3H5c-1.1 0-2 .9-2 2v14c0 1.1.9 2 2 2h14c1.1 0 2-.9 2-2V5c0-1.1-.9-2-2-2zM9 17H7v-7h2v7zm4 0h-2V7h2v10zm4 0h-2v-4h2v4z\"/>\n",
              "    </g>\n",
              "</svg>\n",
              "      </button>\n",
              "\n",
              "<style>\n",
              "  .colab-df-quickchart {\n",
              "      --bg-color: #E8F0FE;\n",
              "      --fill-color: #1967D2;\n",
              "      --hover-bg-color: #E2EBFA;\n",
              "      --hover-fill-color: #174EA6;\n",
              "      --disabled-fill-color: #AAA;\n",
              "      --disabled-bg-color: #DDD;\n",
              "  }\n",
              "\n",
              "  [theme=dark] .colab-df-quickchart {\n",
              "      --bg-color: #3B4455;\n",
              "      --fill-color: #D2E3FC;\n",
              "      --hover-bg-color: #434B5C;\n",
              "      --hover-fill-color: #FFFFFF;\n",
              "      --disabled-bg-color: #3B4455;\n",
              "      --disabled-fill-color: #666;\n",
              "  }\n",
              "\n",
              "  .colab-df-quickchart {\n",
              "    background-color: var(--bg-color);\n",
              "    border: none;\n",
              "    border-radius: 50%;\n",
              "    cursor: pointer;\n",
              "    display: none;\n",
              "    fill: var(--fill-color);\n",
              "    height: 32px;\n",
              "    padding: 0;\n",
              "    width: 32px;\n",
              "  }\n",
              "\n",
              "  .colab-df-quickchart:hover {\n",
              "    background-color: var(--hover-bg-color);\n",
              "    box-shadow: 0 1px 2px rgba(60, 64, 67, 0.3), 0 1px 3px 1px rgba(60, 64, 67, 0.15);\n",
              "    fill: var(--button-hover-fill-color);\n",
              "  }\n",
              "\n",
              "  .colab-df-quickchart-complete:disabled,\n",
              "  .colab-df-quickchart-complete:disabled:hover {\n",
              "    background-color: var(--disabled-bg-color);\n",
              "    fill: var(--disabled-fill-color);\n",
              "    box-shadow: none;\n",
              "  }\n",
              "\n",
              "  .colab-df-spinner {\n",
              "    border: 2px solid var(--fill-color);\n",
              "    border-color: transparent;\n",
              "    border-bottom-color: var(--fill-color);\n",
              "    animation:\n",
              "      spin 1s steps(1) infinite;\n",
              "  }\n",
              "\n",
              "  @keyframes spin {\n",
              "    0% {\n",
              "      border-color: transparent;\n",
              "      border-bottom-color: var(--fill-color);\n",
              "      border-left-color: var(--fill-color);\n",
              "    }\n",
              "    20% {\n",
              "      border-color: transparent;\n",
              "      border-left-color: var(--fill-color);\n",
              "      border-top-color: var(--fill-color);\n",
              "    }\n",
              "    30% {\n",
              "      border-color: transparent;\n",
              "      border-left-color: var(--fill-color);\n",
              "      border-top-color: var(--fill-color);\n",
              "      border-right-color: var(--fill-color);\n",
              "    }\n",
              "    40% {\n",
              "      border-color: transparent;\n",
              "      border-right-color: var(--fill-color);\n",
              "      border-top-color: var(--fill-color);\n",
              "    }\n",
              "    60% {\n",
              "      border-color: transparent;\n",
              "      border-right-color: var(--fill-color);\n",
              "    }\n",
              "    80% {\n",
              "      border-color: transparent;\n",
              "      border-right-color: var(--fill-color);\n",
              "      border-bottom-color: var(--fill-color);\n",
              "    }\n",
              "    90% {\n",
              "      border-color: transparent;\n",
              "      border-bottom-color: var(--fill-color);\n",
              "    }\n",
              "  }\n",
              "</style>\n",
              "\n",
              "      <script>\n",
              "        async function quickchart(key) {\n",
              "          const quickchartButtonEl =\n",
              "            document.querySelector('#' + key + ' button');\n",
              "          quickchartButtonEl.disabled = true;  // To prevent multiple clicks.\n",
              "          quickchartButtonEl.classList.add('colab-df-spinner');\n",
              "          try {\n",
              "            const charts = await google.colab.kernel.invokeFunction(\n",
              "                'suggestCharts', [key], {});\n",
              "          } catch (error) {\n",
              "            console.error('Error during call to suggestCharts:', error);\n",
              "          }\n",
              "          quickchartButtonEl.classList.remove('colab-df-spinner');\n",
              "          quickchartButtonEl.classList.add('colab-df-quickchart-complete');\n",
              "        }\n",
              "        (() => {\n",
              "          let quickchartButtonEl =\n",
              "            document.querySelector('#df-b700736e-7496-45bf-b5a2-f0ba7e77e4c8 button');\n",
              "          quickchartButtonEl.style.display =\n",
              "            google.colab.kernel.accessAllowed ? 'block' : 'none';\n",
              "        })();\n",
              "      </script>\n",
              "    </div>\n",
              "\n",
              "    </div>\n",
              "  </div>\n"
            ],
            "application/vnd.google.colaboratory.intrinsic+json": {
              "type": "dataframe",
              "variable_name": "rating_df"
            }
          },
          "metadata": {},
          "execution_count": 4
        }
      ],
      "source": [
        "rating_url = \"https://cf-courses-data.s3.us.cloud-object-storage.appdomain.cloud/IBMSkillsNetwork-ML0321EN-Coursera/labs/v2/module_3/ratings.csv\"\n",
        "rating_df = pd.read_csv(rating_url)\n",
        "rating_df.head()"
      ],
      "execution_count": 4
    },
    {
      "cell_type": "markdown",
      "metadata": {
        "id": "391781f1-75e8-43e5-a690-48fefe76e2d5"
      },
      "source": [
        "This is the same rating dataset we have been using in previous lab, which contains the three main columns: `user`, `item`, and `rating`.\n"
      ]
    },
    {
      "cell_type": "markdown",
      "metadata": {
        "id": "52581f87-e478-49ea-a0f2-98e2137a4ba1"
      },
      "source": [
        "Next, let's figure out how many unique users and items, their total numbers will determine the sizes of one-hot encoding vectors.\n"
      ]
    },
    {
      "cell_type": "code",
      "metadata": {
        "colab": {
          "base_uri": "https://localhost:8080/"
        },
        "id": "2b7c4207-33e0-4239-a989-8e92bde23b0a",
        "outputId": "3ec2f44f-0cac-4be6-d7cc-a44264103d1f"
      },
      "outputs": [
        {
          "output_type": "stream",
          "name": "stdout",
          "text": [
            "There are total `33901` of users and `126` items\n"
          ]
        }
      ],
      "source": [
        "num_users = len(rating_df['user'].unique())\n",
        "num_items = len(rating_df['item'].unique())\n",
        "print(f\"There are total `{num_users}` of users and `{num_items}` items\")"
      ],
      "execution_count": 5
    },
    {
      "cell_type": "markdown",
      "metadata": {
        "id": "7b25bffc-468d-4c67-a7e8-0a9a8000bd0e"
      },
      "source": [
        "It means our each user can be represented as a `33901 x 1` one-hot vector and each item can be represented as `126 x 1` one-hot vector.\n"
      ]
    },
    {
      "cell_type": "markdown",
      "metadata": {
        "id": "04ec5cd5-af22-409d-88cb-6ffcda24f786"
      },
      "source": [
        "The goal is to create a neural network structure that can take the user and item one-hot vectors as inputs and outputs a rating estimation or the probability of interaction.\n",
        "\n",
        "While training and updating the weights in the neural network, its hidden layers should be able to capture the pattern or features for each user and item. Based on this idea, we can design a simple neural network architecture like the following:\n"
      ]
    },
    {
      "cell_type": "markdown",
      "metadata": {
        "id": "04f75abc-3588-4f42-8ac3-440e1a5a49e7"
      },
      "source": [
        "![](https://cf-courses-data.s3.us.cloud-object-storage.appdomain.cloud/IBM-ML321EN-SkillsNetwork/labs/module_4/images/embedding_feature_vector.png)\n"
      ]
    },
    {
      "cell_type": "markdown",
      "metadata": {
        "id": "c89e44c6-93b8-4ae8-bc3a-d0b56b85f371"
      },
      "source": [
        "The network inputs are two one-hot encoding vectors, the blue one is for the user and the green one is for the item. Then on top of them, we added two embedding layers. Here embedding means embedding the one-hot encoding vector into a latent feature space. The embedding layer is a fully-connected layer that outputs the embedding feature vectors. For example, the user embedding layer takes `33901 x 1` one-hot vector as input and outputs a `16 x 1` embedding vector.\n"
      ]
    },
    {
      "cell_type": "markdown",
      "metadata": {
        "id": "bbe4512a-1b1f-4ec1-9a11-cc2c36f3fbd5"
      },
      "source": [
        "The embedding layer outputs two embedding vectors, which are similar to Non-negative matrix factorization. Then we could simply dot the product the user and item embedding vector to output a rating estimation.\n"
      ]
    },
    {
      "cell_type": "markdown",
      "metadata": {
        "id": "2af40bfe-221c-40ef-acaa-dab3dca061fa"
      },
      "source": [
        "#### Implementing the recommender neural network using tensorflow\n"
      ]
    },
    {
      "cell_type": "markdown",
      "metadata": {
        "id": "137cd938-cc81-4033-bfd8-2a063b4f1b6e"
      },
      "source": [
        "This network architecture could be defined and implemented as a sub-class inheriting the `tensorflow.keras.Model` super class, let's call it `RecommenderNet()`.\n"
      ]
    },
    {
      "cell_type": "code",
      "metadata": {
        "id": "f2c4b3eb-b356-4f18-9276-21944465bd37"
      },
      "outputs": [],
      "source": [
        "class RecommenderNet(keras.Model):\n",
        "    \"\"\"\n",
        "        Neural network model for recommendation.\n",
        "\n",
        "        This model learns embeddings for users and items, and computes the dot product\n",
        "        of the user and item embeddings to predict ratings or preferences.\n",
        "\n",
        "        Attributes:\n",
        "        - num_users (int): Number of users.\n",
        "        - num_items (int): Number of items.\n",
        "        - embedding_size (int): Size of embedding vectors for users and items.\n",
        "    \"\"\"\n",
        "    def __init__(self, num_users, num_items, embedding_size=16, **kwargs):\n",
        "        \"\"\"\n",
        "            Constructor.\n",
        "\n",
        "            Args:\n",
        "            - num_users (int): Number of users.\n",
        "            - num_items (int): Number of items.\n",
        "            - embedding_size (int): Size of embedding vectors for users and items.\n",
        "         \"\"\"\n",
        "        super(RecommenderNet, self).__init__(**kwargs)\n",
        "        self.num_users = num_users\n",
        "        self.num_items = num_items\n",
        "        self.embedding_size = embedding_size\n",
        "\n",
        "        # Define a user_embedding vector\n",
        "        # Input dimension is the num_users\n",
        "        # Output dimension is the embedding size\n",
        "        # A name for the layer, which helps in identifying the layer within the model.\n",
        "\n",
        "        self.user_embedding_layer = layers.Embedding(\n",
        "            input_dim=num_users,\n",
        "            output_dim=embedding_size,\n",
        "            name='user_embedding_layer',\n",
        "            embeddings_initializer=\"he_normal\",\n",
        "            embeddings_regularizer=keras.regularizers.l2(1e-6),\n",
        "        )\n",
        "        # Define a user bias layer\n",
        "        # Bias is applied per user, hence output_dim is set to 1.\n",
        "        self.user_bias = layers.Embedding(\n",
        "            input_dim=num_users,\n",
        "            output_dim=1,\n",
        "            name=\"user_bias\")\n",
        "\n",
        "        # Define an item_embedding vector\n",
        "        # Input dimension is the num_items\n",
        "        # Output dimension is the embedding size\n",
        "        self.item_embedding_layer = layers.Embedding(\n",
        "            input_dim=num_items,\n",
        "            output_dim=embedding_size,\n",
        "            name='item_embedding_layer',\n",
        "            embeddings_initializer=\"he_normal\",\n",
        "            embeddings_regularizer=keras.regularizers.l2(1e-6),\n",
        "        )\n",
        "        # Define an item bias layer\n",
        "        # Bias is applied per item, hence output_dim is set to 1.\n",
        "        self.item_bias = layers.Embedding(\n",
        "            input_dim=num_items,\n",
        "            output_dim=1,\n",
        "            name=\"item_bias\")\n",
        "\n",
        "    def call(self, inputs):\n",
        "        \"\"\"\n",
        "            Method called during model fitting.\n",
        "\n",
        "            Args:\n",
        "            - inputs (tf.Tensor): Input tensor containing user and item one-hot vectors.\n",
        "\n",
        "            Returns:\n",
        "            - tf.Tensor: Output tensor containing predictions.\n",
        "        \"\"\"\n",
        "        # Compute the user embedding vector\n",
        "        user_vector = self.user_embedding_layer(inputs[:, 0])\n",
        "        # Compute the user bias\n",
        "        user_bias = self.user_bias(inputs[:, 0])\n",
        "        # Compute the item embedding vector\n",
        "        item_vector = self.item_embedding_layer(inputs[:, 1])\n",
        "        # Compute the item bias\n",
        "        item_bias = self.item_bias(inputs[:, 1])\n",
        "         # Compute dot product of user and item embeddings\n",
        "        dot_user_item = tf.tensordot(user_vector, item_vector, 2)\n",
        "        # Add all the components (including bias)\n",
        "        x = dot_user_item + user_bias + item_bias\n",
        "        # Apply ReLU activation function\n",
        "        return tf.nn.relu(x)"
      ],
      "execution_count": 6
    },
    {
      "cell_type": "markdown",
      "metadata": {
        "id": "eff870f2-a650-4046-b1a3-b97d1f470353"
      },
      "source": [
        "### TASK: Train and evaluate the RecommenderNet()\n"
      ]
    },
    {
      "cell_type": "markdown",
      "metadata": {
        "id": "bd95dafc-9efd-452f-9554-b3e060d0170e"
      },
      "source": [
        "Now it's time to train and evaluate the defined `RecommenderNet()`. First, we need to process the original rating dataset a little bit by converting the actual user ids and item ids into integer indices for `tensorflow` to creating the one-hot encoding vectors.\n"
      ]
    },
    {
      "cell_type": "code",
      "metadata": {
        "id": "0db5dec8-e041-4351-acf8-709fcde52db1"
      },
      "outputs": [],
      "source": [
        "def process_dataset(raw_data):\n",
        "    \"\"\"\n",
        "        Preprocesses the raw dataset by encoding user and item IDs to indices.\n",
        "\n",
        "        Args:\n",
        "        - raw_data (DataFrame): Raw dataset containing user, item, and rating information.\n",
        "\n",
        "        Returns:\n",
        "        - encoded_data (DataFrame): Processed dataset with user and item IDs encoded as indices.\n",
        "        - user_idx2id_dict (dict): Dictionary mapping user indices to original user IDs.\n",
        "        - course_idx2id_dict (dict): Dictionary mapping item indices to original item IDs.\n",
        "    \"\"\"\n",
        "\n",
        "    encoded_data = raw_data.copy() # Make a copy of the raw dataset to avoid modifying the original data.\n",
        "\n",
        "    # Mapping user ids to indices\n",
        "    user_list = encoded_data[\"user\"].unique().tolist() # Get unique user IDs from the dataset.\n",
        "    user_id2idx_dict = {x: i for i, x in enumerate(user_list)} # Create a dictionary mapping user IDs to indices.\n",
        "    user_idx2id_dict = {i: x for i, x in enumerate(user_list)} # Create a dictionary mapping user indices back to original user IDs.\n",
        "\n",
        "    # Mapping course ids to indices\n",
        "    course_list = encoded_data[\"item\"].unique().tolist() # Get unique item (course) IDs from the dataset.\n",
        "    course_id2idx_dict = {x: i for i, x in enumerate(course_list)} # Create a dictionary mapping item IDs to indices.\n",
        "    course_idx2id_dict = {i: x for i, x in enumerate(course_list)} # Create a dictionary mapping item indices back to original item IDs.\n",
        "\n",
        "    # Convert original user ids to idx\n",
        "    encoded_data[\"user\"] = encoded_data[\"user\"].map(user_id2idx_dict)\n",
        "    # Convert original course ids to idx\n",
        "    encoded_data[\"item\"] = encoded_data[\"item\"].map(course_id2idx_dict)\n",
        "    # Convert rating to int\n",
        "    encoded_data[\"rating\"] = encoded_data[\"rating\"].values.astype(\"int\")\n",
        "\n",
        "    return encoded_data, user_idx2id_dict, course_idx2id_dict # Return the processed dataset and dictionaries mapping indices to original IDs."
      ],
      "execution_count": 7
    },
    {
      "cell_type": "code",
      "metadata": {
        "id": "086e139a-f541-40f2-a523-20e6150cc196"
      },
      "outputs": [],
      "source": [
        "# Process the raw dataset using the process_dataset function\n",
        "# The function returns three values: encoded_data, user_idx2id_dict, and course_idx2id_dict\n",
        "# encoded_data: Processed dataset with user and item IDs encoded as indices\n",
        "# user_idx2id_dict: Dictionary mapping user indices to original user IDs\n",
        "# course_idx2id_dict: Dictionary mapping item indices to original item IDs\n",
        "encoded_data, user_idx2id_dict, course_idx2id_dict = process_dataset(rating_df)"
      ],
      "execution_count": 8
    },
    {
      "cell_type": "code",
      "metadata": {
        "colab": {
          "base_uri": "https://localhost:8080/",
          "height": 206
        },
        "id": "4e003ca8-7c54-47d7-b410-b9e5607e90af",
        "outputId": "1ffc25dd-6ddd-4bd8-b894-9d6bab8d1d67"
      },
      "outputs": [
        {
          "output_type": "execute_result",
          "data": {
            "text/plain": [
              "   user  item  rating\n",
              "0     0     0       5\n",
              "1     1     1       3\n",
              "2     2     2       5\n",
              "3     3     3       5\n",
              "4     4     4       3"
            ],
            "text/html": [
              "\n",
              "  <div id=\"df-2f520593-40ad-4569-9dd6-41d237643532\" class=\"colab-df-container\">\n",
              "    <div>\n",
              "<style scoped>\n",
              "    .dataframe tbody tr th:only-of-type {\n",
              "        vertical-align: middle;\n",
              "    }\n",
              "\n",
              "    .dataframe tbody tr th {\n",
              "        vertical-align: top;\n",
              "    }\n",
              "\n",
              "    .dataframe thead th {\n",
              "        text-align: right;\n",
              "    }\n",
              "</style>\n",
              "<table border=\"1\" class=\"dataframe\">\n",
              "  <thead>\n",
              "    <tr style=\"text-align: right;\">\n",
              "      <th></th>\n",
              "      <th>user</th>\n",
              "      <th>item</th>\n",
              "      <th>rating</th>\n",
              "    </tr>\n",
              "  </thead>\n",
              "  <tbody>\n",
              "    <tr>\n",
              "      <th>0</th>\n",
              "      <td>0</td>\n",
              "      <td>0</td>\n",
              "      <td>5</td>\n",
              "    </tr>\n",
              "    <tr>\n",
              "      <th>1</th>\n",
              "      <td>1</td>\n",
              "      <td>1</td>\n",
              "      <td>3</td>\n",
              "    </tr>\n",
              "    <tr>\n",
              "      <th>2</th>\n",
              "      <td>2</td>\n",
              "      <td>2</td>\n",
              "      <td>5</td>\n",
              "    </tr>\n",
              "    <tr>\n",
              "      <th>3</th>\n",
              "      <td>3</td>\n",
              "      <td>3</td>\n",
              "      <td>5</td>\n",
              "    </tr>\n",
              "    <tr>\n",
              "      <th>4</th>\n",
              "      <td>4</td>\n",
              "      <td>4</td>\n",
              "      <td>3</td>\n",
              "    </tr>\n",
              "  </tbody>\n",
              "</table>\n",
              "</div>\n",
              "    <div class=\"colab-df-buttons\">\n",
              "\n",
              "  <div class=\"colab-df-container\">\n",
              "    <button class=\"colab-df-convert\" onclick=\"convertToInteractive('df-2f520593-40ad-4569-9dd6-41d237643532')\"\n",
              "            title=\"Convert this dataframe to an interactive table.\"\n",
              "            style=\"display:none;\">\n",
              "\n",
              "  <svg xmlns=\"http://www.w3.org/2000/svg\" height=\"24px\" viewBox=\"0 -960 960 960\">\n",
              "    <path d=\"M120-120v-720h720v720H120Zm60-500h600v-160H180v160Zm220 220h160v-160H400v160Zm0 220h160v-160H400v160ZM180-400h160v-160H180v160Zm440 0h160v-160H620v160ZM180-180h160v-160H180v160Zm440 0h160v-160H620v160Z\"/>\n",
              "  </svg>\n",
              "    </button>\n",
              "\n",
              "  <style>\n",
              "    .colab-df-container {\n",
              "      display:flex;\n",
              "      gap: 12px;\n",
              "    }\n",
              "\n",
              "    .colab-df-convert {\n",
              "      background-color: #E8F0FE;\n",
              "      border: none;\n",
              "      border-radius: 50%;\n",
              "      cursor: pointer;\n",
              "      display: none;\n",
              "      fill: #1967D2;\n",
              "      height: 32px;\n",
              "      padding: 0 0 0 0;\n",
              "      width: 32px;\n",
              "    }\n",
              "\n",
              "    .colab-df-convert:hover {\n",
              "      background-color: #E2EBFA;\n",
              "      box-shadow: 0px 1px 2px rgba(60, 64, 67, 0.3), 0px 1px 3px 1px rgba(60, 64, 67, 0.15);\n",
              "      fill: #174EA6;\n",
              "    }\n",
              "\n",
              "    .colab-df-buttons div {\n",
              "      margin-bottom: 4px;\n",
              "    }\n",
              "\n",
              "    [theme=dark] .colab-df-convert {\n",
              "      background-color: #3B4455;\n",
              "      fill: #D2E3FC;\n",
              "    }\n",
              "\n",
              "    [theme=dark] .colab-df-convert:hover {\n",
              "      background-color: #434B5C;\n",
              "      box-shadow: 0px 1px 3px 1px rgba(0, 0, 0, 0.15);\n",
              "      filter: drop-shadow(0px 1px 2px rgba(0, 0, 0, 0.3));\n",
              "      fill: #FFFFFF;\n",
              "    }\n",
              "  </style>\n",
              "\n",
              "    <script>\n",
              "      const buttonEl =\n",
              "        document.querySelector('#df-2f520593-40ad-4569-9dd6-41d237643532 button.colab-df-convert');\n",
              "      buttonEl.style.display =\n",
              "        google.colab.kernel.accessAllowed ? 'block' : 'none';\n",
              "\n",
              "      async function convertToInteractive(key) {\n",
              "        const element = document.querySelector('#df-2f520593-40ad-4569-9dd6-41d237643532');\n",
              "        const dataTable =\n",
              "          await google.colab.kernel.invokeFunction('convertToInteractive',\n",
              "                                                    [key], {});\n",
              "        if (!dataTable) return;\n",
              "\n",
              "        const docLinkHtml = 'Like what you see? Visit the ' +\n",
              "          '<a target=\"_blank\" href=https://colab.research.google.com/notebooks/data_table.ipynb>data table notebook</a>'\n",
              "          + ' to learn more about interactive tables.';\n",
              "        element.innerHTML = '';\n",
              "        dataTable['output_type'] = 'display_data';\n",
              "        await google.colab.output.renderOutput(dataTable, element);\n",
              "        const docLink = document.createElement('div');\n",
              "        docLink.innerHTML = docLinkHtml;\n",
              "        element.appendChild(docLink);\n",
              "      }\n",
              "    </script>\n",
              "  </div>\n",
              "\n",
              "\n",
              "    <div id=\"df-1f6af027-985f-4b83-804e-26acc788b4f3\">\n",
              "      <button class=\"colab-df-quickchart\" onclick=\"quickchart('df-1f6af027-985f-4b83-804e-26acc788b4f3')\"\n",
              "                title=\"Suggest charts\"\n",
              "                style=\"display:none;\">\n",
              "\n",
              "<svg xmlns=\"http://www.w3.org/2000/svg\" height=\"24px\"viewBox=\"0 0 24 24\"\n",
              "     width=\"24px\">\n",
              "    <g>\n",
              "        <path d=\"M19 3H5c-1.1 0-2 .9-2 2v14c0 1.1.9 2 2 2h14c1.1 0 2-.9 2-2V5c0-1.1-.9-2-2-2zM9 17H7v-7h2v7zm4 0h-2V7h2v10zm4 0h-2v-4h2v4z\"/>\n",
              "    </g>\n",
              "</svg>\n",
              "      </button>\n",
              "\n",
              "<style>\n",
              "  .colab-df-quickchart {\n",
              "      --bg-color: #E8F0FE;\n",
              "      --fill-color: #1967D2;\n",
              "      --hover-bg-color: #E2EBFA;\n",
              "      --hover-fill-color: #174EA6;\n",
              "      --disabled-fill-color: #AAA;\n",
              "      --disabled-bg-color: #DDD;\n",
              "  }\n",
              "\n",
              "  [theme=dark] .colab-df-quickchart {\n",
              "      --bg-color: #3B4455;\n",
              "      --fill-color: #D2E3FC;\n",
              "      --hover-bg-color: #434B5C;\n",
              "      --hover-fill-color: #FFFFFF;\n",
              "      --disabled-bg-color: #3B4455;\n",
              "      --disabled-fill-color: #666;\n",
              "  }\n",
              "\n",
              "  .colab-df-quickchart {\n",
              "    background-color: var(--bg-color);\n",
              "    border: none;\n",
              "    border-radius: 50%;\n",
              "    cursor: pointer;\n",
              "    display: none;\n",
              "    fill: var(--fill-color);\n",
              "    height: 32px;\n",
              "    padding: 0;\n",
              "    width: 32px;\n",
              "  }\n",
              "\n",
              "  .colab-df-quickchart:hover {\n",
              "    background-color: var(--hover-bg-color);\n",
              "    box-shadow: 0 1px 2px rgba(60, 64, 67, 0.3), 0 1px 3px 1px rgba(60, 64, 67, 0.15);\n",
              "    fill: var(--button-hover-fill-color);\n",
              "  }\n",
              "\n",
              "  .colab-df-quickchart-complete:disabled,\n",
              "  .colab-df-quickchart-complete:disabled:hover {\n",
              "    background-color: var(--disabled-bg-color);\n",
              "    fill: var(--disabled-fill-color);\n",
              "    box-shadow: none;\n",
              "  }\n",
              "\n",
              "  .colab-df-spinner {\n",
              "    border: 2px solid var(--fill-color);\n",
              "    border-color: transparent;\n",
              "    border-bottom-color: var(--fill-color);\n",
              "    animation:\n",
              "      spin 1s steps(1) infinite;\n",
              "  }\n",
              "\n",
              "  @keyframes spin {\n",
              "    0% {\n",
              "      border-color: transparent;\n",
              "      border-bottom-color: var(--fill-color);\n",
              "      border-left-color: var(--fill-color);\n",
              "    }\n",
              "    20% {\n",
              "      border-color: transparent;\n",
              "      border-left-color: var(--fill-color);\n",
              "      border-top-color: var(--fill-color);\n",
              "    }\n",
              "    30% {\n",
              "      border-color: transparent;\n",
              "      border-left-color: var(--fill-color);\n",
              "      border-top-color: var(--fill-color);\n",
              "      border-right-color: var(--fill-color);\n",
              "    }\n",
              "    40% {\n",
              "      border-color: transparent;\n",
              "      border-right-color: var(--fill-color);\n",
              "      border-top-color: var(--fill-color);\n",
              "    }\n",
              "    60% {\n",
              "      border-color: transparent;\n",
              "      border-right-color: var(--fill-color);\n",
              "    }\n",
              "    80% {\n",
              "      border-color: transparent;\n",
              "      border-right-color: var(--fill-color);\n",
              "      border-bottom-color: var(--fill-color);\n",
              "    }\n",
              "    90% {\n",
              "      border-color: transparent;\n",
              "      border-bottom-color: var(--fill-color);\n",
              "    }\n",
              "  }\n",
              "</style>\n",
              "\n",
              "      <script>\n",
              "        async function quickchart(key) {\n",
              "          const quickchartButtonEl =\n",
              "            document.querySelector('#' + key + ' button');\n",
              "          quickchartButtonEl.disabled = true;  // To prevent multiple clicks.\n",
              "          quickchartButtonEl.classList.add('colab-df-spinner');\n",
              "          try {\n",
              "            const charts = await google.colab.kernel.invokeFunction(\n",
              "                'suggestCharts', [key], {});\n",
              "          } catch (error) {\n",
              "            console.error('Error during call to suggestCharts:', error);\n",
              "          }\n",
              "          quickchartButtonEl.classList.remove('colab-df-spinner');\n",
              "          quickchartButtonEl.classList.add('colab-df-quickchart-complete');\n",
              "        }\n",
              "        (() => {\n",
              "          let quickchartButtonEl =\n",
              "            document.querySelector('#df-1f6af027-985f-4b83-804e-26acc788b4f3 button');\n",
              "          quickchartButtonEl.style.display =\n",
              "            google.colab.kernel.accessAllowed ? 'block' : 'none';\n",
              "        })();\n",
              "      </script>\n",
              "    </div>\n",
              "\n",
              "    </div>\n",
              "  </div>\n"
            ],
            "application/vnd.google.colaboratory.intrinsic+json": {
              "type": "dataframe",
              "variable_name": "encoded_data"
            }
          },
          "metadata": {},
          "execution_count": 9
        }
      ],
      "source": [
        "encoded_data.head()"
      ],
      "execution_count": 9
    },
    {
      "cell_type": "markdown",
      "metadata": {
        "id": "38cae8ff-e904-4c3e-8813-f13e142c65d7"
      },
      "source": [
        "Then we can split the encoded dataset into training and testing datasets.\n"
      ]
    },
    {
      "cell_type": "code",
      "metadata": {
        "id": "fe2691a7-c039-4fcb-96e2-607949eb8e51"
      },
      "outputs": [],
      "source": [
        "def generate_train_test_datasets(dataset, scale=True):\n",
        "    \"\"\"\n",
        "        Splits the dataset into training, validation, and testing sets.\n",
        "\n",
        "        Args:\n",
        "        - dataset (DataFrame): Dataset containing user, item, and rating information.\n",
        "        - scale (bool): Indicates whether to scale the ratings between 0 and 1. Default is True.\n",
        "\n",
        "       Returns:\n",
        "        - x_train (array): Features for training set.\n",
        "        - x_val (array): Features for validation set.\n",
        "        - x_test (array): Features for testing set.\n",
        "        - y_train (array): Labels for training set.\n",
        "        - y_val (array): Labels for validation set.\n",
        "        - y_test (array): Labels for testing set.\n",
        "    \"\"\"\n",
        "\n",
        "    min_rating = min(dataset[\"rating\"]) # Get the minimum rating from the dataset\n",
        "    max_rating = max(dataset[\"rating\"]) # Get the maximum rating from the dataset\n",
        "\n",
        "    dataset = dataset.sample(frac=1, random_state=42) # Shuffle the dataset to ensure randomness\n",
        "    x = dataset[[\"user\", \"item\"]].values # Extract features (user and item indices) from the dataset\n",
        "    if scale:\n",
        "        # Scale the ratings between 0 and 1 if scale=True\n",
        "        y = dataset[\"rating\"].apply(lambda x: (x - min_rating) / (max_rating - min_rating)).values\n",
        "    else:\n",
        "        # Otherwise, use raw ratings\n",
        "        y = dataset[\"rating\"].values\n",
        "\n",
        "    # Assuming training on 80% of the data and testing on 10% of the data\n",
        "    train_indices = int(0.8 * dataset.shape[0])\n",
        "    test_indices = int(0.9 * dataset.shape[0])\n",
        "    # Assigning subsets of features and labels for each set\n",
        "    x_train, x_val, x_test, y_train, y_val, y_test = (\n",
        "        x[:train_indices], # Training features\n",
        "        x[train_indices:test_indices], # Validation features\n",
        "        x[test_indices:], # Testing features\n",
        "        y[:train_indices], # Training labels\n",
        "        y[train_indices:test_indices], # Validation labels\n",
        "        y[test_indices:], # Testing labels\n",
        "    )\n",
        "    return x_train, x_val, x_test, y_train, y_val, y_test # Return the training, validation, and testing sets"
      ],
      "execution_count": 10
    },
    {
      "cell_type": "code",
      "metadata": {
        "id": "510c5ff5-d92f-430c-acff-fc5b82f2342f"
      },
      "outputs": [],
      "source": [
        "x_train, x_val, x_test, y_train, y_val, y_test = generate_train_test_datasets(encoded_data)"
      ],
      "execution_count": 11
    },
    {
      "cell_type": "markdown",
      "metadata": {
        "id": "29c439cf-8ca2-4638-9707-4a4302c04795"
      },
      "source": [
        "If we take a look at the training input data, it is simply just a list of user indices and item indices, which is a dense format of one-hot encoding vectors.\n"
      ]
    },
    {
      "cell_type": "code",
      "metadata": {
        "colab": {
          "base_uri": "https://localhost:8080/"
        },
        "id": "1cad3c50-963a-4dd4-a48d-b4000633adf4",
        "outputId": "97c09eeb-6334-42c8-bf95-74228f68563a"
      },
      "outputs": [
        {
          "output_type": "execute_result",
          "data": {
            "text/plain": [
              "array([ 8376,  7659, 10717, ...,  3409, 28761,  4973])"
            ]
          },
          "metadata": {},
          "execution_count": 12
        }
      ],
      "source": [
        "user_indices = x_train[:, 0]\n",
        "user_indices"
      ],
      "execution_count": 12
    },
    {
      "cell_type": "code",
      "metadata": {
        "colab": {
          "base_uri": "https://localhost:8080/"
        },
        "id": "bfd9759c-16c9-430d-b03b-85c65d8cd8d7",
        "outputId": "3e9ea3cb-f072-4173-9004-3d7235be14b5"
      },
      "outputs": [
        {
          "output_type": "execute_result",
          "data": {
            "text/plain": [
              "array([12, 29,  3, ..., 18, 19, 17])"
            ]
          },
          "metadata": {},
          "execution_count": 13
        }
      ],
      "source": [
        "item_indices = x_train[:, 1]\n",
        "item_indices"
      ],
      "execution_count": 13
    },
    {
      "cell_type": "markdown",
      "metadata": {
        "id": "38817a8e-f35b-41a9-a597-c7d625906431"
      },
      "source": [
        "The training output labels are a list of 0s and 1s indicating if the user has completed a course or not.\n"
      ]
    },
    {
      "cell_type": "code",
      "metadata": {
        "colab": {
          "base_uri": "https://localhost:8080/"
        },
        "id": "0b02a0c0-42fd-4c31-8bc3-6caa63a29cae",
        "outputId": "41f954ce-8b7b-4af3-d36b-4b01ca7f76d0"
      },
      "outputs": [
        {
          "output_type": "execute_result",
          "data": {
            "text/plain": [
              "array([0., 0., 0., ..., 0., 1., 0.])"
            ]
          },
          "metadata": {},
          "execution_count": 14
        }
      ],
      "source": [
        "y_train"
      ],
      "execution_count": 14
    },
    {
      "cell_type": "markdown",
      "metadata": {
        "id": "e0c98f31-e2c9-42cd-9159-a906a150cb0e"
      },
      "source": [
        "Then we can choose a small embedding vector size to be 16 and create a `RecommenderNet()` model to be trained.\n"
      ]
    },
    {
      "cell_type": "code",
      "metadata": {
        "id": "95d56d1a-f596-40cb-9882-70ac5d556af2"
      },
      "outputs": [],
      "source": [
        "embedding_size = 16\n",
        "model = RecommenderNet(num_users, num_items, embedding_size)"
      ],
      "execution_count": 15
    },
    {
      "cell_type": "markdown",
      "metadata": {
        "id": "c01ff141-121e-4fe2-b94e-4191c097ec28"
      },
      "source": [
        "_TODO: Train the RecommenderNet() model_\n"
      ]
    },
    {
      "cell_type": "code",
      "metadata": {
        "colab": {
          "base_uri": "https://localhost:8080/",
          "height": 857
        },
        "id": "2873796c-e28b-48dc-9b77-cf257d15377d",
        "outputId": "21dfd3d9-793a-4062-9492-1b794f5f15e6"
      },
      "outputs": [
        {
          "output_type": "stream",
          "name": "stdout",
          "text": [
            "Epoch 1/10\n",
            "\u001b[1m2917/2917\u001b[0m \u001b[32m━━━━━━━━━━━━━━━━━━━━\u001b[0m\u001b[37m\u001b[0m \u001b[1m31s\u001b[0m 10ms/step - loss: 0.2355 - root_mean_squared_error: 0.4826 - val_loss: 0.1781 - val_root_mean_squared_error: 0.4214\n",
            "Epoch 2/10\n",
            "\u001b[1m2917/2917\u001b[0m \u001b[32m━━━━━━━━━━━━━━━━━━━━\u001b[0m\u001b[37m\u001b[0m \u001b[1m38s\u001b[0m 9ms/step - loss: 0.1739 - root_mean_squared_error: 0.4162 - val_loss: 0.1784 - val_root_mean_squared_error: 0.4214\n",
            "Epoch 3/10\n",
            "\u001b[1m2917/2917\u001b[0m \u001b[32m━━━━━━━━━━━━━━━━━━━━\u001b[0m\u001b[37m\u001b[0m \u001b[1m42s\u001b[0m 9ms/step - loss: 0.1593 - root_mean_squared_error: 0.3980 - val_loss: 0.1794 - val_root_mean_squared_error: 0.4222\n",
            "Epoch 4/10\n",
            "\u001b[1m2917/2917\u001b[0m \u001b[32m━━━━━━━━━━━━━━━━━━━━\u001b[0m\u001b[37m\u001b[0m \u001b[1m26s\u001b[0m 9ms/step - loss: 0.1538 - root_mean_squared_error: 0.3906 - val_loss: 0.1839 - val_root_mean_squared_error: 0.4271\n",
            "Epoch 5/10\n",
            "\u001b[1m2917/2917\u001b[0m \u001b[32m━━━━━━━━━━━━━━━━━━━━\u001b[0m\u001b[37m\u001b[0m \u001b[1m39s\u001b[0m 8ms/step - loss: 0.1525 - root_mean_squared_error: 0.3885 - val_loss: 0.1862 - val_root_mean_squared_error: 0.4293\n",
            "Epoch 6/10\n",
            "\u001b[1m2917/2917\u001b[0m \u001b[32m━━━━━━━━━━━━━━━━━━━━\u001b[0m\u001b[37m\u001b[0m \u001b[1m42s\u001b[0m 9ms/step - loss: 0.1505 - root_mean_squared_error: 0.3854 - val_loss: 0.1902 - val_root_mean_squared_error: 0.4336\n",
            "Epoch 7/10\n",
            "\u001b[1m2917/2917\u001b[0m \u001b[32m━━━━━━━━━━━━━━━━━━━━\u001b[0m\u001b[37m\u001b[0m \u001b[1m26s\u001b[0m 9ms/step - loss: 0.1498 - root_mean_squared_error: 0.3841 - val_loss: 0.1932 - val_root_mean_squared_error: 0.4368\n",
            "Epoch 8/10\n",
            "\u001b[1m2917/2917\u001b[0m \u001b[32m━━━━━━━━━━━━━━━━━━━━\u001b[0m\u001b[37m\u001b[0m \u001b[1m26s\u001b[0m 9ms/step - loss: 0.1503 - root_mean_squared_error: 0.3844 - val_loss: 0.1963 - val_root_mean_squared_error: 0.4401\n",
            "Epoch 9/10\n",
            "\u001b[1m2917/2917\u001b[0m \u001b[32m━━━━━━━━━━━━━━━━━━━━\u001b[0m\u001b[37m\u001b[0m \u001b[1m25s\u001b[0m 8ms/step - loss: 0.1493 - root_mean_squared_error: 0.3830 - val_loss: 0.1976 - val_root_mean_squared_error: 0.4414\n",
            "Epoch 10/10\n",
            "\u001b[1m2917/2917\u001b[0m \u001b[32m━━━━━━━━━━━━━━━━━━━━\u001b[0m\u001b[37m\u001b[0m \u001b[1m41s\u001b[0m 9ms/step - loss: 0.1495 - root_mean_squared_error: 0.3830 - val_loss: 0.2004 - val_root_mean_squared_error: 0.4444\n"
          ]
        },
        {
          "output_type": "stream",
          "name": "stderr",
          "text": [
            "WARNING:absl:You are saving your model as an HDF5 file via `model.save()` or `keras.saving.save_model(model)`. This file format is considered legacy. We recommend using instead the native Keras format, e.g. `model.save('my_model.keras')` or `keras.saving.save_model(model, 'my_model.keras')`. \n"
          ]
        },
        {
          "output_type": "display_data",
          "data": {
            "text/plain": [
              "<Figure size 640x480 with 1 Axes>"
            ],
            "image/png": "[encoded data removed]"
          },
          "metadata": {}
        }
      ],
      "source": [
        "## WRITE YOUR CODE HERE:\n",
        "\n",
        "# Define the embedding size\n",
        "embedding_size = 16\n",
        "\n",
        "# Create the RecommenderNet model\n",
        "model = RecommenderNet(num_users, num_items, embedding_size)\n",
        "\n",
        "# Compile the model\n",
        "model.compile(loss=tf.keras.losses.MeanSquaredError(),\n",
        "              optimizer=keras.optimizers.Adam(),\n",
        "              metrics=[tf.keras.metrics.RootMeanSquaredError()])\n",
        "\n",
        "# Train the model\n",
        "history = model.fit(x=x_train, y=y_train,\n",
        "                    validation_data=(x_val, y_val),\n",
        "                    epochs=10, batch_size=64, verbose=1)\n",
        "\n",
        "\n",
        "# save the model\n",
        "model.save(\"recommender_model.h5\")\n",
        "\n",
        "# Plot the train and validation loss\n",
        "plt.plot(history.history[\"loss\"], label=\"Train Loss\")\n",
        "plt.plot(history.history[\"val_loss\"], label=\"Validation Loss\")\n",
        "plt.xlabel(\"Epoch\")\n",
        "plt.ylabel(\"Loss\")\n",
        "plt.title(\"Train and Validation Loss\")\n",
        "plt.legend()\n",
        "plt.show()"
      ],
      "execution_count": 16
    },
    {
      "cell_type": "markdown",
      "metadata": {
        "id": "4f836595-7748-4827-b733-0fda4c0b96f7"
      },
      "source": [
        "<details>\n",
        "    <summary>Click here for Hints</summary>\n",
        "    \n",
        "When you are fitting a model, dont forget to specify the parameters: `x=x_train, y=y_train`, as well as `batch_size=64`, number of `epochs=10` and of course `validation_data=(x_val, y_val)` you can also define `verbose = 1` which will show you an animated progress for the training progress for each epoch.\n",
        "    \n",
        "* You can set  `history = model.fit()` which will give you a \"loss\" dataframe which will be very useful for ploting the train and validation loss. To plot it, use plt.plot() with `history.history[\"loss\"]` as its parameter for train loss and `history.history[\"val_loss\"]` for validation loss.\n"
      ]
    },
    {
      "cell_type": "markdown",
      "metadata": {
        "id": "8d48c27e-8e74-4482-9954-ec1381d9facf"
      },
      "source": [
        "_TODO:_ Evaluate the trained model\n"
      ]
    },
    {
      "cell_type": "code",
      "metadata": {
        "colab": {
          "base_uri": "https://localhost:8080/"
        },
        "id": "3e0ced73-14d3-4678-8be2-c63049c3abab",
        "outputId": "f1fd18c0-af3b-487f-9028-0688e2abc1a9"
      },
      "outputs": [
        {
          "output_type": "stream",
          "name": "stdout",
          "text": [
            "\u001b[1m730/730\u001b[0m \u001b[32m━━━━━━━━━━━━━━━━━━━━\u001b[0m\u001b[37m\u001b[0m \u001b[1m3s\u001b[0m 4ms/step - loss: 0.1979 - root_mean_squared_error: 0.4416\n",
            "Test Loss: 0.19808954000473022\n",
            "Test RMSE: 0.441770076751709\n"
          ]
        }
      ],
      "source": [
        "### WRITE YOUR CODE HERE\n",
        "\n",
        "### - call model.evaluate() to evaluate the model\n",
        "test_loss, test_rmse = model.evaluate(x=x_test, y=y_test)\n",
        "\n",
        "print(\"Test Loss:\", test_loss)\n",
        "print(\"Test RMSE:\", test_rmse)"
      ],
      "execution_count": 17
    },
    {
      "cell_type": "markdown",
      "metadata": {
        "id": "f977bd20-91e4-4703-87f9-425d62825c3f"
      },
      "source": [
        "<details>\n",
        "    <summary>Click here for Hints</summary>\n",
        "    \n",
        "Use `x_test, y_test` as parameters for `model.evaluate()`\n"
      ]
    },
    {
      "cell_type": "markdown",
      "metadata": {
        "id": "c94ff96c-0090-420a-94c2-10cc606ccde0"
      },
      "source": [
        "### Extract the user and item embedding vectors as latent feature vectors\n"
      ]
    },
    {
      "cell_type": "markdown",
      "metadata": {
        "id": "c1f45d6a-b74d-496e-80e9-1775b1820302"
      },
      "source": [
        "Now, we have trained the `RecommenderNet()` model and it can predict the ratings with relatively small RMSE.\n",
        "\n",
        "If we print the trained model then we can see its layers and their parameters/weights.\n"
      ]
    },
    {
      "cell_type": "code",
      "metadata": {
        "colab": {
          "base_uri": "https://localhost:8080/",
          "height": 323
        },
        "id": "c5c9e444-badb-4527-976b-8ab29eb93e7b",
        "outputId": "52622d6a-b3e9-430a-c652-6a230f9f9b88"
      },
      "outputs": [
        {
          "output_type": "display_data",
          "data": {
            "text/plain": [
              "\u001b[1mModel: \"recommender_net_1\"\u001b[0m\n"
            ],
            "text/html": [
              "<pre style=\"white-space:pre;overflow-x:auto;line-height:normal;font-family:Menlo,'DejaVu Sans Mono',consolas,'Courier New',monospace\"><span style=\"font-weight: bold\">Model: \"recommender_net_1\"</span>\n",
              "</pre>\n"
            ]
          },
          "metadata": {}
        },
        {
          "output_type": "display_data",
          "data": {
            "text/plain": [
              "┏━━━━━━━━━━━━━━━━━━━━━━━━━━━━━━━━━┳━━━━━━━━━━━━━━━━━━━━━━━━┳━━━━━━━━━━━━━━━┓\n",
              "┃\u001b[1m \u001b[0m\u001b[1mLayer (type)                   \u001b[0m\u001b[1m \u001b[0m┃\u001b[1m \u001b[0m\u001b[1mOutput Shape          \u001b[0m\u001b[1m \u001b[0m┃\u001b[1m \u001b[0m\u001b[1m      Param #\u001b[0m\u001b[1m \u001b[0m┃\n",
              "┡━━━━━━━━━━━━━━━━━━━━━━━━━━━━━━━━━╇━━━━━━━━━━━━━━━━━━━━━━━━╇━━━━━━━━━━━━━━━┩\n",
              "│ user_embedding_layer            │ (\u001b[38;5;45mNone\u001b[0m, \u001b[38;5;34m16\u001b[0m)             │       \u001b[38;5;34m542,416\u001b[0m │\n",
              "│ (\u001b[38;5;33mEmbedding\u001b[0m)                     │                        │               │\n",
              "├─────────────────────────────────┼────────────────────────┼───────────────┤\n",
              "│ user_bias (\u001b[38;5;33mEmbedding\u001b[0m)           │ (\u001b[38;5;45mNone\u001b[0m, \u001b[38;5;34m1\u001b[0m)              │        \u001b[38;5;34m33,901\u001b[0m │\n",
              "├─────────────────────────────────┼────────────────────────┼───────────────┤\n",
              "│ item_embedding_layer            │ (\u001b[38;5;45mNone\u001b[0m, \u001b[38;5;34m16\u001b[0m)             │         \u001b[38;5;34m2,016\u001b[0m │\n",
              "│ (\u001b[38;5;33mEmbedding\u001b[0m)                     │                        │               │\n",
              "├─────────────────────────────────┼────────────────────────┼───────────────┤\n",
              "│ item_bias (\u001b[38;5;33mEmbedding\u001b[0m)           │ (\u001b[38;5;45mNone\u001b[0m, \u001b[38;5;34m1\u001b[0m)              │           \u001b[38;5;34m126\u001b[0m │\n",
              "└─────────────────────────────────┴────────────────────────┴───────────────┘\n"
            ],
            "text/html": [
              "<pre style=\"white-space:pre;overflow-x:auto;line-height:normal;font-family:Menlo,'DejaVu Sans Mono',consolas,'Courier New',monospace\">┏━━━━━━━━━━━━━━━━━━━━━━━━━━━━━━━━━┳━━━━━━━━━━━━━━━━━━━━━━━━┳━━━━━━━━━━━━━━━┓\n",
              "┃<span style=\"font-weight: bold\"> Layer (type)                    </span>┃<span style=\"font-weight: bold\"> Output Shape           </span>┃<span style=\"font-weight: bold\">       Param # </span>┃\n",
              "┡━━━━━━━━━━━━━━━━━━━━━━━━━━━━━━━━━╇━━━━━━━━━━━━━━━━━━━━━━━━╇━━━━━━━━━━━━━━━┩\n",
              "│ user_embedding_layer            │ (<span style=\"color: #00d7ff; text-decoration-color: #00d7ff\">None</span>, <span style=\"color: #00af00; text-decoration-color: #00af00\">16</span>)             │       <span style=\"color: #00af00; text-decoration-color: #00af00\">542,416</span> │\n",
              "│ (<span style=\"color: #0087ff; text-decoration-color: #0087ff\">Embedding</span>)                     │                        │               │\n",
              "├─────────────────────────────────┼────────────────────────┼───────────────┤\n",
              "│ user_bias (<span style=\"color: #0087ff; text-decoration-color: #0087ff\">Embedding</span>)           │ (<span style=\"color: #00d7ff; text-decoration-color: #00d7ff\">None</span>, <span style=\"color: #00af00; text-decoration-color: #00af00\">1</span>)              │        <span style=\"color: #00af00; text-decoration-color: #00af00\">33,901</span> │\n",
              "├─────────────────────────────────┼────────────────────────┼───────────────┤\n",
              "│ item_embedding_layer            │ (<span style=\"color: #00d7ff; text-decoration-color: #00d7ff\">None</span>, <span style=\"color: #00af00; text-decoration-color: #00af00\">16</span>)             │         <span style=\"color: #00af00; text-decoration-color: #00af00\">2,016</span> │\n",
              "│ (<span style=\"color: #0087ff; text-decoration-color: #0087ff\">Embedding</span>)                     │                        │               │\n",
              "├─────────────────────────────────┼────────────────────────┼───────────────┤\n",
              "│ item_bias (<span style=\"color: #0087ff; text-decoration-color: #0087ff\">Embedding</span>)           │ (<span style=\"color: #00d7ff; text-decoration-color: #00d7ff\">None</span>, <span style=\"color: #00af00; text-decoration-color: #00af00\">1</span>)              │           <span style=\"color: #00af00; text-decoration-color: #00af00\">126</span> │\n",
              "└─────────────────────────────────┴────────────────────────┴───────────────┘\n",
              "</pre>\n"
            ]
          },
          "metadata": {}
        },
        {
          "output_type": "display_data",
          "data": {
            "text/plain": [
              "\u001b[1m Total params: \u001b[0m\u001b[38;5;34m1,735,379\u001b[0m (6.62 MB)\n"
            ],
            "text/html": [
              "<pre style=\"white-space:pre;overflow-x:auto;line-height:normal;font-family:Menlo,'DejaVu Sans Mono',consolas,'Courier New',monospace\"><span style=\"font-weight: bold\"> Total params: </span><span style=\"color: #00af00; text-decoration-color: #00af00\">1,735,379</span> (6.62 MB)\n",
              "</pre>\n"
            ]
          },
          "metadata": {}
        },
        {
          "output_type": "display_data",
          "data": {
            "text/plain": [
              "\u001b[1m Trainable params: \u001b[0m\u001b[38;5;34m578,459\u001b[0m (2.21 MB)\n"
            ],
            "text/html": [
              "<pre style=\"white-space:pre;overflow-x:auto;line-height:normal;font-family:Menlo,'DejaVu Sans Mono',consolas,'Courier New',monospace\"><span style=\"font-weight: bold\"> Trainable params: </span><span style=\"color: #00af00; text-decoration-color: #00af00\">578,459</span> (2.21 MB)\n",
              "</pre>\n"
            ]
          },
          "metadata": {}
        },
        {
          "output_type": "display_data",
          "data": {
            "text/plain": [
              "\u001b[1m Non-trainable params: \u001b[0m\u001b[38;5;34m0\u001b[0m (0.00 B)\n"
            ],
            "text/html": [
              "<pre style=\"white-space:pre;overflow-x:auto;line-height:normal;font-family:Menlo,'DejaVu Sans Mono',consolas,'Courier New',monospace\"><span style=\"font-weight: bold\"> Non-trainable params: </span><span style=\"color: #00af00; text-decoration-color: #00af00\">0</span> (0.00 B)\n",
              "</pre>\n"
            ]
          },
          "metadata": {}
        },
        {
          "output_type": "display_data",
          "data": {
            "text/plain": [
              "\u001b[1m Optimizer params: \u001b[0m\u001b[38;5;34m1,156,920\u001b[0m (4.41 MB)\n"
            ],
            "text/html": [
              "<pre style=\"white-space:pre;overflow-x:auto;line-height:normal;font-family:Menlo,'DejaVu Sans Mono',consolas,'Courier New',monospace\"><span style=\"font-weight: bold\"> Optimizer params: </span><span style=\"color: #00af00; text-decoration-color: #00af00\">1,156,920</span> (4.41 MB)\n",
              "</pre>\n"
            ]
          },
          "metadata": {}
        }
      ],
      "source": [
        "model.summary()"
      ],
      "execution_count": 18
    },
    {
      "cell_type": "markdown",
      "metadata": {
        "id": "54a2d550-80f2-405a-9dcb-9cbbeea21f61"
      },
      "source": [
        "In the `RecommenderNet`, the `user_embedding_layer` and `item_embedding_layer` layers contain the trained weights. Essentially, they are the latent user and item features learned by `RecommenderNet` and will be used to predict the interaction. As such, while training the neural network to predict rating, the embedding layers are simultaneously trained to extract the embedding user and item features.\n"
      ]
    },
    {
      "cell_type": "markdown",
      "metadata": {
        "id": "279bf727-4927-405d-9844-bae39a0cea1e"
      },
      "source": [
        "We can easily get the actual weights using `model.get_layer().get_weights()` methods\n"
      ]
    },
    {
      "cell_type": "code",
      "metadata": {
        "colab": {
          "base_uri": "https://localhost:8080/"
        },
        "id": "d75b07bd-ec90-4ee4-b302-1b2a29c0ce57",
        "outputId": "8a2197c0-9631-4ba9-ca41-eb407912b670"
      },
      "outputs": [
        {
          "output_type": "stream",
          "name": "stdout",
          "text": [
            "User features shape: (33901, 16)\n"
          ]
        }
      ],
      "source": [
        "# User features\n",
        "user_latent_features = model.get_layer('user_embedding_layer').get_weights()[0]\n",
        "print(f\"User features shape: {user_latent_features.shape}\")"
      ],
      "execution_count": 19
    },
    {
      "cell_type": "code",
      "metadata": {
        "colab": {
          "base_uri": "https://localhost:8080/"
        },
        "id": "bebabed4-7daa-43f5-8187-c0718006ea4a",
        "outputId": "f35bfcd1-8c86-495c-d256-d98e7bcdf67e"
      },
      "outputs": [
        {
          "output_type": "execute_result",
          "data": {
            "text/plain": [
              "array([-0.04582114,  0.00260961,  0.10283856,  0.0579473 , -0.02350392,\n",
              "       -0.09334338, -0.24611615, -0.09898353, -0.04653908, -0.09578124,\n",
              "        0.01430243,  0.0332623 ,  0.02947195, -0.04915086, -0.0321647 ,\n",
              "       -0.06071617], dtype=float32)"
            ]
          },
          "metadata": {},
          "execution_count": 20
        }
      ],
      "source": [
        "user_latent_features[0]"
      ],
      "execution_count": 20
    },
    {
      "cell_type": "code",
      "metadata": {
        "colab": {
          "base_uri": "https://localhost:8080/"
        },
        "id": "31ed97d4-2725-4540-85fc-8f9e63b3a118",
        "outputId": "7c4c8549-42d8-4ccc-afa2-cdc45de93860"
      },
      "outputs": [
        {
          "output_type": "stream",
          "name": "stdout",
          "text": [
            "Item features shape: (126, 16)\n"
          ]
        }
      ],
      "source": [
        "item_latent_features = model.get_layer('item_embedding_layer').get_weights()[0]\n",
        "print(f\"Item features shape: {item_latent_features.shape}\")"
      ],
      "execution_count": 21
    },
    {
      "cell_type": "code",
      "metadata": {
        "colab": {
          "base_uri": "https://localhost:8080/"
        },
        "id": "1770b4cb-363e-4229-ab68-a205a383edab",
        "outputId": "eb263404-2891-4824-85bf-78625aab1a0f"
      },
      "outputs": [
        {
          "output_type": "execute_result",
          "data": {
            "text/plain": [
              "array([ 0.0151382 ,  0.00767057,  0.01007066,  0.01305242,  0.00889021,\n",
              "       -0.02982958,  0.01693166, -0.00472601,  0.02599005,  0.00140586,\n",
              "       -0.028147  , -0.01757383,  0.01017553, -0.0259775 , -0.01025378,\n",
              "       -0.00802214], dtype=float32)"
            ]
          },
          "metadata": {},
          "execution_count": 22
        }
      ],
      "source": [
        "item_latent_features[0]"
      ],
      "execution_count": 22
    },
    {
      "cell_type": "markdown",
      "metadata": {
        "id": "a42737e4-f49f-43a9-9154-c2777a1d99b2"
      },
      "source": [
        "Now, each user of the total 33901 users has been transformed into a 16 x 1 latent feature vector and each item of the total 126 has been transformed into a 16 x 1 latent feature vector.\n"
      ]
    },
    {
      "cell_type": "markdown",
      "metadata": {
        "id": "9832fd46-9214-4872-936f-4a939432b1c1"
      },
      "source": [
        "### TASK (Optional): Customize the RecommenderNet to potentially improve the model performance\n"
      ]
    },
    {
      "cell_type": "markdown",
      "metadata": {
        "id": "6c53588e-023f-4fb5-9199-3ac899982a5a"
      },
      "source": [
        "The pre-defined `RecommenderNet()` is a actually very basic neural network, you are encouraged to customize it to see if model prediction performance will be improved. Here are some directions:\n",
        "- Hyperparameter tuning, such as the embedding layer dimensions\n",
        "- Add more hidden layers\n",
        "- Try different activation functions such as `ReLu`\n"
      ]
    },
    {
      "cell_type": "code",
      "metadata": {
        "colab": {
          "base_uri": "https://localhost:8080/"
        },
        "id": "5c0affe0-f249-49e8-941a-377cb2978355",
        "outputId": "24da9eb7-a14a-4390-ccb5-3e45d205c8da"
      },
      "outputs": [
        {
          "output_type": "stream",
          "name": "stdout",
          "text": [
            "Epoch 1/10\n",
            "\u001b[1m2917/2917\u001b[0m \u001b[32m━━━━━━━━━━━━━━━━━━━━\u001b[0m\u001b[37m\u001b[0m \u001b[1m34s\u001b[0m 11ms/step - loss: 0.1744 - root_mean_squared_error: 0.4171 - val_loss: 0.1676 - val_root_mean_squared_error: 0.4094\n",
            "Epoch 2/10\n",
            "\u001b[1m2917/2917\u001b[0m \u001b[32m━━━━━━━━━━━━━━━━━━━━\u001b[0m\u001b[37m\u001b[0m \u001b[1m42s\u001b[0m 11ms/step - loss: 0.1634 - root_mean_squared_error: 0.4043 - val_loss: 0.1696 - val_root_mean_squared_error: 0.4119\n",
            "Epoch 3/10\n",
            "\u001b[1m2917/2917\u001b[0m \u001b[32m━━━━━━━━━━━━━━━━━━━━\u001b[0m\u001b[37m\u001b[0m \u001b[1m32s\u001b[0m 11ms/step - loss: 0.0998 - root_mean_squared_error: 0.3158 - val_loss: 0.2022 - val_root_mean_squared_error: 0.4496\n",
            "Epoch 4/10\n",
            "\u001b[1m2917/2917\u001b[0m \u001b[32m━━━━━━━━━━━━━━━━━━━━\u001b[0m\u001b[37m\u001b[0m \u001b[1m41s\u001b[0m 11ms/step - loss: 0.0481 - root_mean_squared_error: 0.2192 - val_loss: 0.2294 - val_root_mean_squared_error: 0.4789\n",
            "Epoch 5/10\n",
            "\u001b[1m2917/2917\u001b[0m \u001b[32m━━━━━━━━━━━━━━━━━━━━\u001b[0m\u001b[37m\u001b[0m \u001b[1m41s\u001b[0m 11ms/step - loss: 0.0266 - root_mean_squared_error: 0.1631 - val_loss: 0.2382 - val_root_mean_squared_error: 0.4880\n",
            "Epoch 6/10\n",
            "\u001b[1m2917/2917\u001b[0m \u001b[32m━━━━━━━━━━━━━━━━━━━━\u001b[0m\u001b[37m\u001b[0m \u001b[1m31s\u001b[0m 11ms/step - loss: 0.0173 - root_mean_squared_error: 0.1316 - val_loss: 0.2456 - val_root_mean_squared_error: 0.4955\n",
            "Epoch 7/10\n",
            "\u001b[1m2917/2917\u001b[0m \u001b[32m━━━━━━━━━━━━━━━━━━━━\u001b[0m\u001b[37m\u001b[0m \u001b[1m41s\u001b[0m 10ms/step - loss: 0.0103 - root_mean_squared_error: 0.1017 - val_loss: 0.2521 - val_root_mean_squared_error: 0.5020\n",
            "Epoch 8/10\n",
            "\u001b[1m2917/2917\u001b[0m \u001b[32m━━━━━━━━━━━━━━━━━━━━\u001b[0m\u001b[37m\u001b[0m \u001b[1m32s\u001b[0m 11ms/step - loss: 0.0068 - root_mean_squared_error: 0.0824 - val_loss: 0.2643 - val_root_mean_squared_error: 0.5141\n",
            "Epoch 9/10\n",
            "\u001b[1m2917/2917\u001b[0m \u001b[32m━━━━━━━━━━━━━━━━━━━━\u001b[0m\u001b[37m\u001b[0m \u001b[1m31s\u001b[0m 11ms/step - loss: 0.0052 - root_mean_squared_error: 0.0724 - val_loss: 0.2609 - val_root_mean_squared_error: 0.5108\n",
            "Epoch 10/10\n",
            "\u001b[1m2917/2917\u001b[0m \u001b[32m━━━━━━━━━━━━━━━━━━━━\u001b[0m\u001b[37m\u001b[0m \u001b[1m32s\u001b[0m 11ms/step - loss: 0.0052 - root_mean_squared_error: 0.0718 - val_loss: 0.2519 - val_root_mean_squared_error: 0.5019\n",
            "\u001b[1m730/730\u001b[0m \u001b[32m━━━━━━━━━━━━━━━━━━━━\u001b[0m\u001b[37m\u001b[0m \u001b[1m1s\u001b[0m 2ms/step - loss: 0.2523 - root_mean_squared_error: 0.5023\n",
            "Test Loss: 0.2536884844303131\n",
            "Test RMSE: 0.5036749839782715\n"
          ]
        }
      ],
      "source": [
        "## WRITE YOUR CODE HERE\n",
        "\n",
        "## Update RecommenderNet() class\n",
        "\n",
        "## compile and fit the updated model\n",
        "\n",
        "## evaluate the updated model\n",
        "\n",
        "class CustomRecommenderNet(tf.keras.Model):\n",
        "    def __init__(self, num_users, num_items, embedding_size, hidden_units):\n",
        "        super(CustomRecommenderNet, self).__init__()\n",
        "\n",
        "        self.user_embedding_layer = layers.Embedding(num_users, embedding_size)\n",
        "        self.user_bias = layers.Embedding(num_users, 1)\n",
        "\n",
        "        self.item_embedding_layer = layers.Embedding(num_items, embedding_size)\n",
        "        self.item_bias = layers.Embedding(num_items, 1)\n",
        "\n",
        "        self.hidden_layers = [layers.Dense(units, activation='relu') for units in hidden_units]\n",
        "\n",
        "        self.output_layer = layers.Dense(1)\n",
        "\n",
        "    def call(self, inputs):\n",
        "        user_indices, item_indices = inputs\n",
        "\n",
        "        user_vector = self.user_embedding_layer(user_indices)\n",
        "        user_bias = self.user_bias(user_indices)\n",
        "\n",
        "        item_vector = self.item_embedding_layer(item_indices)\n",
        "        item_bias = self.item_bias(item_indices)\n",
        "\n",
        "        dot_user_item = tf.reduce_sum(tf.multiply(user_vector, item_vector), axis=1, keepdims=True)\n",
        "\n",
        "        x = dot_user_item + user_bias + item_bias\n",
        "\n",
        "        for layer in self.hidden_layers:\n",
        "            x = layer(x)\n",
        "\n",
        "        return self.output_layer(x)\n",
        "\n",
        "# Define hyperparameters\n",
        "embedding_size = 32\n",
        "hidden_units = [64, 32]\n",
        "\n",
        "# Create the custom model\n",
        "custom_model = CustomRecommenderNet(num_users, num_items, embedding_size, hidden_units)\n",
        "\n",
        "# Compile the model\n",
        "custom_model.compile(loss=tf.keras.losses.MeanSquaredError(),\n",
        "                     optimizer=tf.keras.optimizers.Adam(),\n",
        "                     metrics=[tf.keras.metrics.RootMeanSquaredError()])\n",
        "\n",
        "# Train the model\n",
        "custom_history = custom_model.fit(x=[x_train[:, 0], x_train[:, 1]], y=y_train,\n",
        "                                  validation_data=([x_val[:, 0], x_val[:, 1]], y_val),\n",
        "                                  epochs=10, batch_size=64, verbose=1)\n",
        "\n",
        "# Evaluate the model\n",
        "test_loss, test_rmse = custom_model.evaluate(x=[x_test[:, 0], x_test[:, 1]], y=y_test)\n",
        "print(\"Test Loss:\", test_loss)\n",
        "print(\"Test RMSE:\", test_rmse)"
      ],
      "execution_count": 23
    },
    {
      "cell_type": "markdown",
      "metadata": {
        "id": "1faeb967-0f49-45f4-9a77-c66dd6707f17"
      },
      "source": [
        "### Summary\n"
      ]
    },
    {
      "cell_type": "markdown",
      "metadata": {
        "id": "5e89851e-4136-4048-b46f-a5b804e58ad4"
      },
      "source": [
        "In this lab, you have learned and practiced predicting course ratings using neural networks. With a predefined and trained neural network, we can extract or embed users and items into latent feature spaces and further predict the interaction between a user and an item with the latent feature vectors.\n"
      ]
    },
    {
      "cell_type": "markdown",
      "metadata": {
        "id": "b71e8b2d-c908-4683-9bef-18a52c6c2ca8"
      },
      "source": [
        "## Authors\n"
      ]
    },
    {
      "cell_type": "markdown",
      "metadata": {
        "id": "90626188-0cb8-42e4-92d6-0d47e1ab5c2d"
      },
      "source": [
        "[Yan Luo](https://www.linkedin.com/in/yan-luo-96288783/)\n"
      ]
    },
    {
      "cell_type": "markdown",
      "metadata": {
        "id": "5f9102cb-8e7d-4925-9db2-d3091c2dc4d8"
      },
      "source": [
        "### Other Contributors\n"
      ]
    },
    {
      "cell_type": "markdown",
      "metadata": {
        "id": "cfe075fc-8f73-4876-bf6b-079ea8e6bb7f"
      },
      "source": [
        "```toggle## Change Log\n",
        "```\n"
      ]
    },
    {
      "cell_type": "markdown",
      "metadata": {
        "id": "91887b52-48bd-4714-b188-66404fb48be7"
      },
      "source": [
        "```toggle|Date (YYYY-MM-DD)|Version|Changed By|Change Description|\n",
        "```\n",
        "```toggle|-|-|-|-|\n",
        "```\n",
        "```toggle|2021-10-25|1.0|Yan|Created the initial version|\n",
        "```\n"
      ]
    },
    {
      "cell_type": "markdown",
      "metadata": {
        "id": "d18797eb-002f-4e41-beb4-e8ea4655c7c1"
      },
      "source": [
        "Copyright © 2021 IBM Corporation. All rights reserved.\n"
      ]
    }
  ],
  "metadata": {
    "kernelspec": {
      "display_name": "Python 3 (ipykernel)",
      "language": "python",
      "name": "python3"
    },
    "language_info": {
      "codemirror_mode": {
        "name": "ipython",
        "version": 3
      },
      "file_extension": ".py",
      "mimetype": "text/x-python",
      "name": "python",
      "nbconvert_exporter": "python",
      "pygments_lexer": "ipython3",
      "version": "3.11.7"
    },
    "prev_pub_hash": "b666e2b2e913b0897482548eb096a4e157b670ab86270b1b3a78e523a1f244d9",
    "colab": {
      "provenance": []
    }
  },
  "nbformat": 4,
  "nbformat_minor": 0
}